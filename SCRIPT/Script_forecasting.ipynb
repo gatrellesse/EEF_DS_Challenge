{
 "cells": [
  {
   "cell_type": "markdown",
   "id": "ddc590c6",
   "metadata": {},
   "source": [
    "# Installing Libraries"
   ]
  },
  {
   "cell_type": "markdown",
   "id": "b9c24fbf",
   "metadata": {},
   "source": [
    "Links:\n",
    "\n",
    "https://ajuda.decea.mil.br/base-de-conhecimento/como-decodificar-o-metar-e-o-speci/\n",
    "https://unidata.github.io/MetPy/latest/api/generated/metpy.io.parse_metar_to_dataframe.html#metpy.io.parse_metar_to_dataframe"
   ]
  },
  {
   "cell_type": "markdown",
   "id": "7849776d",
   "metadata": {},
   "source": [
    "## Getting to know the Data"
   ]
  },
  {
   "cell_type": "code",
   "execution_count": 1,
   "id": "6c39a665",
   "metadata": {},
   "outputs": [
    {
     "name": "stderr",
     "output_type": "stream",
     "text": [
      "C:\\Users\\DELL\\anaconda3\\lib\\site-packages\\pandas\\core\\computation\\expressions.py:21: UserWarning: Pandas requires version '2.8.4' or newer of 'numexpr' (version '2.8.1' currently installed).\n",
      "  from pandas.core.computation.check import NUMEXPR_INSTALLED\n",
      "C:\\Users\\DELL\\anaconda3\\lib\\site-packages\\pandas\\core\\arrays\\masked.py:60: UserWarning: Pandas requires version '1.3.6' or newer of 'bottleneck' (version '1.3.4' currently installed).\n",
      "  from pandas.core import (\n"
     ]
    },
    {
     "data": {
      "text/html": [
       "<div>\n",
       "<style scoped>\n",
       "    .dataframe tbody tr th:only-of-type {\n",
       "        vertical-align: middle;\n",
       "    }\n",
       "\n",
       "    .dataframe tbody tr th {\n",
       "        vertical-align: top;\n",
       "    }\n",
       "\n",
       "    .dataframe thead th {\n",
       "        text-align: right;\n",
       "    }\n",
       "</style>\n",
       "<table border=\"1\" class=\"dataframe\">\n",
       "  <thead>\n",
       "    <tr style=\"text-align: right;\">\n",
       "      <th></th>\n",
       "      <th>station_id</th>\n",
       "      <th>latitude</th>\n",
       "      <th>longitude</th>\n",
       "      <th>elevation</th>\n",
       "      <th>date_time</th>\n",
       "      <th>wind_direction</th>\n",
       "      <th>wind_speed</th>\n",
       "      <th>wind_gust</th>\n",
       "      <th>visibility</th>\n",
       "      <th>current_wx1</th>\n",
       "      <th>...</th>\n",
       "      <th>air_temperature</th>\n",
       "      <th>dew_point_temperature</th>\n",
       "      <th>altimeter</th>\n",
       "      <th>current_wx1_symbol</th>\n",
       "      <th>current_wx2_symbol</th>\n",
       "      <th>current_wx3_symbol</th>\n",
       "      <th>remarks</th>\n",
       "      <th>air_pressure_at_sea_level</th>\n",
       "      <th>eastward_wind</th>\n",
       "      <th>northward_wind</th>\n",
       "    </tr>\n",
       "    <tr>\n",
       "      <th>station_id</th>\n",
       "      <th></th>\n",
       "      <th></th>\n",
       "      <th></th>\n",
       "      <th></th>\n",
       "      <th></th>\n",
       "      <th></th>\n",
       "      <th></th>\n",
       "      <th></th>\n",
       "      <th></th>\n",
       "      <th></th>\n",
       "      <th></th>\n",
       "      <th></th>\n",
       "      <th></th>\n",
       "      <th></th>\n",
       "      <th></th>\n",
       "      <th></th>\n",
       "      <th></th>\n",
       "      <th></th>\n",
       "      <th></th>\n",
       "      <th></th>\n",
       "      <th></th>\n",
       "    </tr>\n",
       "  </thead>\n",
       "  <tbody>\n",
       "    <tr>\n",
       "      <th>SBSP</th>\n",
       "      <td>SBSP</td>\n",
       "      <td>-23.62</td>\n",
       "      <td>-46.63</td>\n",
       "      <td>803</td>\n",
       "      <td>2024-04-01 10:00:00</td>\n",
       "      <td>100</td>\n",
       "      <td>3.0</td>\n",
       "      <td>NaN</td>\n",
       "      <td>8000</td>\n",
       "      <td>-RA</td>\n",
       "      <td>...</td>\n",
       "      <td>15.0</td>\n",
       "      <td>14.0</td>\n",
       "      <td>30.12</td>\n",
       "      <td>61</td>\n",
       "      <td>0</td>\n",
       "      <td>0</td>\n",
       "      <td></td>\n",
       "      <td>1019.51</td>\n",
       "      <td>-2.954423</td>\n",
       "      <td>0.520945</td>\n",
       "    </tr>\n",
       "  </tbody>\n",
       "</table>\n",
       "<p>1 rows × 31 columns</p>\n",
       "</div>"
      ],
      "text/plain": [
       "           station_id  latitude  longitude  elevation           date_time  \\\n",
       "station_id                                                                  \n",
       "SBSP             SBSP    -23.62     -46.63        803 2024-04-01 10:00:00   \n",
       "\n",
       "            wind_direction  wind_speed  wind_gust  visibility current_wx1  \\\n",
       "station_id                                                                  \n",
       "SBSP                   100         3.0        NaN        8000         -RA   \n",
       "\n",
       "            ...  air_temperature  dew_point_temperature altimeter  \\\n",
       "station_id  ...                                                     \n",
       "SBSP        ...             15.0                   14.0     30.12   \n",
       "\n",
       "            current_wx1_symbol current_wx2_symbol  current_wx3_symbol  \\\n",
       "station_id                                                              \n",
       "SBSP                        61                  0                   0   \n",
       "\n",
       "            remarks  air_pressure_at_sea_level  eastward_wind  northward_wind  \n",
       "station_id                                                                     \n",
       "SBSP                                   1019.51      -2.954423        0.520945  \n",
       "\n",
       "[1 rows x 31 columns]"
      ]
     },
     "execution_count": 1,
     "metadata": {},
     "output_type": "execute_result"
    }
   ],
   "source": [
    "# Importing necessary libraries\n",
    "import numpy as np\n",
    "import pandas as pd\n",
    "import matplotlib.pyplot as plt\n",
    "from metpy.io import parse_metar_to_dataframe\n",
    "\n",
    "# Example METAR string\n",
    "metar_string = \"METAR SBSP 011000Z 10003KT 8000 -RA SCT009 OVC011 15/14 Q1020=\"\n",
    "\n",
    "# Parsing METAR string to DataFrame\n",
    "metar_df = parse_metar_to_dataframe(metar_string)\n",
    "\n",
    "# Displaying the DataFrame\n",
    "metar_df\n"
   ]
  },
  {
   "cell_type": "code",
   "execution_count": 8,
   "id": "04a4d7ad",
   "metadata": {},
   "outputs": [
    {
     "data": {
      "text/plain": [
       "Index(['station_id', 'latitude', 'longitude', 'elevation', 'date_time',\n",
       "       'wind_direction', 'wind_speed', 'wind_gust', 'visibility',\n",
       "       'current_wx1', 'current_wx2', 'current_wx3', 'low_cloud_type',\n",
       "       'low_cloud_level', 'medium_cloud_type', 'medium_cloud_level',\n",
       "       'high_cloud_type', 'high_cloud_level', 'highest_cloud_type',\n",
       "       'highest_cloud_level', 'cloud_coverage', 'air_temperature',\n",
       "       'dew_point_temperature', 'altimeter', 'current_wx1_symbol',\n",
       "       'current_wx2_symbol', 'current_wx3_symbol', 'remarks',\n",
       "       'air_pressure_at_sea_level', 'eastward_wind', 'northward_wind'],\n",
       "      dtype='object')"
      ]
     },
     "execution_count": 8,
     "metadata": {},
     "output_type": "execute_result"
    }
   ],
   "source": [
    "metar_df.columns"
   ]
  },
  {
   "cell_type": "code",
   "execution_count": 17,
   "id": "6de75110",
   "metadata": {},
   "outputs": [
    {
     "data": {
      "text/html": [
       "<div>\n",
       "<style scoped>\n",
       "    .dataframe tbody tr th:only-of-type {\n",
       "        vertical-align: middle;\n",
       "    }\n",
       "\n",
       "    .dataframe tbody tr th {\n",
       "        vertical-align: top;\n",
       "    }\n",
       "\n",
       "    .dataframe thead th {\n",
       "        text-align: right;\n",
       "    }\n",
       "</style>\n",
       "<table border=\"1\" class=\"dataframe\">\n",
       "  <thead>\n",
       "    <tr style=\"text-align: right;\">\n",
       "      <th></th>\n",
       "      <th>station_id</th>\n",
       "      <th>latitude</th>\n",
       "      <th>longitude</th>\n",
       "      <th>elevation</th>\n",
       "      <th>date_time</th>\n",
       "      <th>wind_direction</th>\n",
       "      <th>wind_speed</th>\n",
       "      <th>wind_gust</th>\n",
       "      <th>visibility</th>\n",
       "    </tr>\n",
       "    <tr>\n",
       "      <th>station_id</th>\n",
       "      <th></th>\n",
       "      <th></th>\n",
       "      <th></th>\n",
       "      <th></th>\n",
       "      <th></th>\n",
       "      <th></th>\n",
       "      <th></th>\n",
       "      <th></th>\n",
       "      <th></th>\n",
       "    </tr>\n",
       "  </thead>\n",
       "  <tbody>\n",
       "    <tr>\n",
       "      <th>SBSP</th>\n",
       "      <td>SBSP</td>\n",
       "      <td>-23.62</td>\n",
       "      <td>-46.63</td>\n",
       "      <td>803</td>\n",
       "      <td>2024-04-01 10:00:00</td>\n",
       "      <td>100</td>\n",
       "      <td>3.0</td>\n",
       "      <td>NaN</td>\n",
       "      <td>8000</td>\n",
       "    </tr>\n",
       "  </tbody>\n",
       "</table>\n",
       "</div>"
      ],
      "text/plain": [
       "           station_id  latitude  longitude  elevation           date_time  \\\n",
       "station_id                                                                  \n",
       "SBSP             SBSP    -23.62     -46.63        803 2024-04-01 10:00:00   \n",
       "\n",
       "            wind_direction  wind_speed  wind_gust  visibility  \n",
       "station_id                                                     \n",
       "SBSP                   100         3.0        NaN        8000  "
      ]
     },
     "execution_count": 17,
     "metadata": {},
     "output_type": "execute_result"
    }
   ],
   "source": [
    "metar_df[['station_id', 'latitude', 'longitude', 'elevation', 'date_time',\n",
    "       'wind_direction', 'wind_speed', 'wind_gust', 'visibility']]\n",
    "#The descriptive feature of the flight\n",
    "         "
   ]
  },
  {
   "cell_type": "code",
   "execution_count": 10,
   "id": "a058d2ea",
   "metadata": {
    "scrolled": true
   },
   "outputs": [
    {
     "data": {
      "text/html": [
       "<div>\n",
       "<style scoped>\n",
       "    .dataframe tbody tr th:only-of-type {\n",
       "        vertical-align: middle;\n",
       "    }\n",
       "\n",
       "    .dataframe tbody tr th {\n",
       "        vertical-align: top;\n",
       "    }\n",
       "\n",
       "    .dataframe thead th {\n",
       "        text-align: right;\n",
       "    }\n",
       "</style>\n",
       "<table border=\"1\" class=\"dataframe\">\n",
       "  <thead>\n",
       "    <tr style=\"text-align: right;\">\n",
       "      <th></th>\n",
       "      <th>current_wx1</th>\n",
       "      <th>current_wx2</th>\n",
       "      <th>current_wx3</th>\n",
       "    </tr>\n",
       "    <tr>\n",
       "      <th>station_id</th>\n",
       "      <th></th>\n",
       "      <th></th>\n",
       "      <th></th>\n",
       "    </tr>\n",
       "  </thead>\n",
       "  <tbody>\n",
       "    <tr>\n",
       "      <th>SBSP</th>\n",
       "      <td>-RA</td>\n",
       "      <td>NaN</td>\n",
       "      <td>NaN</td>\n",
       "    </tr>\n",
       "  </tbody>\n",
       "</table>\n",
       "</div>"
      ],
      "text/plain": [
       "           current_wx1  current_wx2  current_wx3\n",
       "station_id                                      \n",
       "SBSP               -RA          NaN          NaN"
      ]
     },
     "execution_count": 10,
     "metadata": {},
     "output_type": "execute_result"
    }
   ],
   "source": [
    "metar_df[[\"current_wx1\",\"current_wx2\",\"current_wx3\"]]\n",
    "\n",
    "#Indicadores de tempo presente. Se forem observados mais de um fenômeno, serão codificados grupos separados, \n",
    "#até o máximo de três. No entanto, se for observada mais de uma forma de precipitação, serão combinadas num único\n",
    "#grupo com o tipo de precipitação predominante reportado na frente.\n"
   ]
  },
  {
   "cell_type": "code",
   "execution_count": 12,
   "id": "fa20c24e",
   "metadata": {},
   "outputs": [
    {
     "data": {
      "text/html": [
       "<div>\n",
       "<style scoped>\n",
       "    .dataframe tbody tr th:only-of-type {\n",
       "        vertical-align: middle;\n",
       "    }\n",
       "\n",
       "    .dataframe tbody tr th {\n",
       "        vertical-align: top;\n",
       "    }\n",
       "\n",
       "    .dataframe thead th {\n",
       "        text-align: right;\n",
       "    }\n",
       "</style>\n",
       "<table border=\"1\" class=\"dataframe\">\n",
       "  <thead>\n",
       "    <tr style=\"text-align: right;\">\n",
       "      <th></th>\n",
       "      <th>low_cloud_type</th>\n",
       "      <th>low_cloud_level</th>\n",
       "      <th>medium_cloud_type</th>\n",
       "      <th>medium_cloud_level</th>\n",
       "      <th>high_cloud_type</th>\n",
       "      <th>high_cloud_level</th>\n",
       "    </tr>\n",
       "    <tr>\n",
       "      <th>station_id</th>\n",
       "      <th></th>\n",
       "      <th></th>\n",
       "      <th></th>\n",
       "      <th></th>\n",
       "      <th></th>\n",
       "      <th></th>\n",
       "    </tr>\n",
       "  </thead>\n",
       "  <tbody>\n",
       "    <tr>\n",
       "      <th>SBSP</th>\n",
       "      <td>SCT</td>\n",
       "      <td>900.0</td>\n",
       "      <td>OVC</td>\n",
       "      <td>1100.0</td>\n",
       "      <td>NaN</td>\n",
       "      <td>NaN</td>\n",
       "    </tr>\n",
       "  </tbody>\n",
       "</table>\n",
       "</div>"
      ],
      "text/plain": [
       "           low_cloud_type  low_cloud_level medium_cloud_type  \\\n",
       "station_id                                                     \n",
       "SBSP                  SCT            900.0               OVC   \n",
       "\n",
       "            medium_cloud_level  high_cloud_type  high_cloud_level  \n",
       "station_id                                                         \n",
       "SBSP                    1100.0              NaN               NaN  "
      ]
     },
     "execution_count": 12,
     "metadata": {},
     "output_type": "execute_result"
    }
   ],
   "source": [
    "metar_df[[\"low_cloud_type\",\"low_cloud_level\", \"medium_cloud_type\", \"medium_cloud_level\",\"high_cloud_type\",\"high_cloud_level\"]]\n",
    "\n",
    "#1 a 2 oitavos serão informados como FEW (Few) \n",
    "#3 a 4 oitavos serão informados como SCT (Scattered) \n",
    "#5 a 7 oitavos serão informados como BKN (Broken) \n",
    "#8 oitavos será informado como OVC (Overcast) "
   ]
  },
  {
   "cell_type": "code",
   "execution_count": 13,
   "id": "ddde363e",
   "metadata": {},
   "outputs": [
    {
     "data": {
      "text/html": [
       "<div>\n",
       "<style scoped>\n",
       "    .dataframe tbody tr th:only-of-type {\n",
       "        vertical-align: middle;\n",
       "    }\n",
       "\n",
       "    .dataframe tbody tr th {\n",
       "        vertical-align: top;\n",
       "    }\n",
       "\n",
       "    .dataframe thead th {\n",
       "        text-align: right;\n",
       "    }\n",
       "</style>\n",
       "<table border=\"1\" class=\"dataframe\">\n",
       "  <thead>\n",
       "    <tr style=\"text-align: right;\">\n",
       "      <th></th>\n",
       "      <th>air_temperature</th>\n",
       "      <th>dew_point_temperature</th>\n",
       "    </tr>\n",
       "    <tr>\n",
       "      <th>station_id</th>\n",
       "      <th></th>\n",
       "      <th></th>\n",
       "    </tr>\n",
       "  </thead>\n",
       "  <tbody>\n",
       "    <tr>\n",
       "      <th>SBSP</th>\n",
       "      <td>15.0</td>\n",
       "      <td>14.0</td>\n",
       "    </tr>\n",
       "  </tbody>\n",
       "</table>\n",
       "</div>"
      ],
      "text/plain": [
       "            air_temperature  dew_point_temperature\n",
       "station_id                                        \n",
       "SBSP                   15.0                   14.0"
      ]
     },
     "execution_count": 13,
     "metadata": {},
     "output_type": "execute_result"
    }
   ],
   "source": [
    "metar_df[[\"air_temperature\",\"dew_point_temperature\"]]\n",
    "#air_temperatura ~= dew_point_temperature --> ÚMIDO\n",
    "#air_temperatura >> dew_point_temperature --> SECO"
   ]
  },
  {
   "cell_type": "code",
   "execution_count": 15,
   "id": "8c7542bb",
   "metadata": {
    "scrolled": true
   },
   "outputs": [
    {
     "data": {
      "text/html": [
       "<div>\n",
       "<style scoped>\n",
       "    .dataframe tbody tr th:only-of-type {\n",
       "        vertical-align: middle;\n",
       "    }\n",
       "\n",
       "    .dataframe tbody tr th {\n",
       "        vertical-align: top;\n",
       "    }\n",
       "\n",
       "    .dataframe thead th {\n",
       "        text-align: right;\n",
       "    }\n",
       "</style>\n",
       "<table border=\"1\" class=\"dataframe\">\n",
       "  <thead>\n",
       "    <tr style=\"text-align: right;\">\n",
       "      <th></th>\n",
       "      <th>remarks</th>\n",
       "      <th>air_pressure_at_sea_level</th>\n",
       "      <th>eastward_wind</th>\n",
       "      <th>northward_wind</th>\n",
       "    </tr>\n",
       "    <tr>\n",
       "      <th>station_id</th>\n",
       "      <th></th>\n",
       "      <th></th>\n",
       "      <th></th>\n",
       "      <th></th>\n",
       "    </tr>\n",
       "  </thead>\n",
       "  <tbody>\n",
       "    <tr>\n",
       "      <th>SBSP</th>\n",
       "      <td></td>\n",
       "      <td>1019.51</td>\n",
       "      <td>-2.954423</td>\n",
       "      <td>0.520945</td>\n",
       "    </tr>\n",
       "  </tbody>\n",
       "</table>\n",
       "</div>"
      ],
      "text/plain": [
       "           remarks  air_pressure_at_sea_level  eastward_wind  northward_wind\n",
       "station_id                                                                  \n",
       "SBSP                                  1019.51      -2.954423        0.520945"
      ]
     },
     "execution_count": 15,
     "metadata": {},
     "output_type": "execute_result"
    }
   ],
   "source": [
    "metar_df[[\"remarks\",'air_pressure_at_sea_level', 'eastward_wind', 'northward_wind']]\n",
    "#I am not considering it for the first part"
   ]
  },
  {
   "cell_type": "markdown",
   "id": "3a16a177",
   "metadata": {},
   "source": [
    "## Handling the actual data"
   ]
  },
  {
   "cell_type": "markdown",
   "id": "74c09912",
   "metadata": {},
   "source": [
    "### Functions created to be used"
   ]
  },
  {
   "cell_type": "code",
   "execution_count": 57,
   "id": "883e76d1",
   "metadata": {
    "scrolled": true
   },
   "outputs": [],
   "source": [
    "#When working with categorical classification prediction, is required to use Categorical Values to Numeric\n",
    "#so will be created a functin to do this transformation\n",
    "\n",
    "def categorical_to_numerical(df):\n",
    "    #Before assigning the numbers, we should fillna\n",
    "    columns_to_fill =[\"low_cloud_type\", \"current_wx1\", \"current_wx2\", \"current_wx3\",\n",
    "                      \"medium_cloud_type\", \"high_cloud_type\", \"highest_cloud_type\"]\n",
    "    df[columns_to_fill] = df[columns_to_fill].fillna('OUTROS')\n",
    "    pd.set_option('future.no_silent_downcasting', True)\n",
    "\n",
    "    #df1[\"origem\"].value_counts()\n",
    "    mapping = {'SBSP'    :1,'SBRJ'    :2,'SBGR'     :3,'SBBR'     :4, 'SBCF'     :5, 'SBPA'    :6,\n",
    "               'SBKP'   :7, 'SBCT'   :8, 'SBRF'     :9, 'SBSV'     :10, 'SBFL'    :11, 'SBGL'    :12}\n",
    "    df['origem'] = df['origem'].replace(mapping)\n",
    "    df['destino'] = df['destino'].replace(mapping)\n",
    "\n",
    "    #df1[\"low_cloud_type\"].value_counts()\n",
    "    mapping = {'OUTROS':0, 'FEW': 1, 'SCT': 2, 'BKN': 3, 'OVC': 4, 'NSC': 5, 'NCD': 6, 'VV': 7}\n",
    "    df['low_cloud_type'] = df['low_cloud_type'].replace(mapping)\n",
    "\n",
    "    df[\"current_wx1\"].value_counts()\n",
    "    mapping = {'OUTROS': 0, 'BR': 1,  'VCSH': 2,'FG': 3,'RA': 4,'BCFG': 5,'VCTS': 6,\n",
    "               'TSRA': 7,   'SHRA': 8,'TS': 9,'HZ': 10,'MIFG': 11,'PRFG': 12,'VCFG': 13,'DZ': 14,\n",
    "               \"\\\"-RA\":15,    \"\\\"-DZ\":16, \"\\\"-TSRA\":17, \"\\\"-SHRA\":18, \"\\\"-RADZ\":19, \"\\\"-DZRA\":20, \"\\\"-FZDZ\":21,\n",
    "               \"DZRA\":22, \"RADZ\": 23, \"TSGR\":24 }\n",
    "    \n",
    "  \n",
    "    df['current_wx1'] = df['current_wx1'].replace(mapping)\n",
    "    df['current_wx2'] = df['current_wx2'].replace(mapping)\n",
    "    df['current_wx3'] = df['current_wx3'].replace(mapping)\n",
    "\n",
    "    #df1[\"highest_cloud_type\"].value_counts()\n",
    "    mapping = {'OUTROS': 0,'FEW': 1, 'SCT': 2, 'BKN': 3, 'OVC': 4}\n",
    "    df['medium_cloud_type'] = df['medium_cloud_type'].replace(mapping)\n",
    "    df['high_cloud_type'] = df['high_cloud_type'].replace(mapping)\n",
    "    df['highest_cloud_type'] = df['highest_cloud_type'].replace(mapping)\n",
    "    return df\n",
    "\n",
    "def mapping_places(df):\n",
    "    #Before assigning the numbers, we should fillna\n",
    "    columns_to_fill =[\"low_cloud_type\", \"current_wx1\", \"current_wx2\", \"current_wx3\",\n",
    "                      \"medium_cloud_type\", \"high_cloud_type\", \"highest_cloud_type\"]\n",
    "    df[columns_to_fill] = df[columns_to_fill].fillna('OUTROS')\n",
    "    pd.set_option('future.no_silent_downcasting', True)\n",
    "\n",
    "    #df1[\"origem\"].value_counts()\n",
    "    mapping = {1: 'SBSP', 2: 'SBRJ', 3: 'SBGR', 4: 'SBBR', 5: 'SBCF', 6: 'SBPA',\n",
    "               7: 'SBKP', 8: 'SBCT', 9: 'SBRF', 10: 'SBSV', 11: 'SBFL', 12: 'SBGL'}\n",
    "    df['origem'] = df['origem'].replace(mapping)\n",
    "    df['destino'] = df['destino'].replace(mapping)\n",
    "    return df\n",
    "    \n",
    "def droping_and_filling(df, drop = 1):\n",
    "    cols_to_drop = [\"flightid\", \"hora_ref\", \"url_img_satelite\", \"metaf\", \"metar\", \"date_time\",\"air_pressure_at_sea_level\",\n",
    "                    \"wind_gust\", \"highest_cloud_type\",\"high_cloud_level\",\"elevation\", \"highest_cloud_level\",\"remarks\", \"station_id\", \"origem\", \"destino\"]\n",
    "    \n",
    "    numerical_columns = ['prev_troca_cabeceira', 'troca_cabeceira_hora_anterior', 'latitude', 'longitude', \n",
    "                         'wind_direction', 'wind_speed',  'visibility', \"low_cloud_level\", \"medium_cloud_level\",\n",
    "                         'cloud_coverage', 'air_temperature', 'dew_point_temperature', 'altimeter', 'current_wx1_symbol',\n",
    "                         'current_wx2_symbol', 'current_wx3_symbol',  'eastward_wind', \n",
    "                         \"northward_wind\"]\n",
    "    \n",
    "    #df[\"time\"] = df[\"date_time\"].astype(str)\n",
    "    #df[\"time\"] = df['time'].str.split(\" \").str[1]\n",
    "    #df[\"time\"] = df[ \"time\"].str.split(\":\").str[0]\n",
    "    #mode_value = df[\"time\"].mode()[0]\n",
    "    #df[\"time\"] = df[\"time\"].fillna(mode_value)\n",
    "    \n",
    "    if drop == 1:\n",
    "        df = df.drop(columns=cols_to_drop)\n",
    "    df[numerical_columns] = df[numerical_columns].fillna(df[numerical_columns].mean())\n",
    "    \n",
    "    return df"
   ]
  },
  {
   "cell_type": "markdown",
   "id": "973aa788",
   "metadata": {},
   "source": [
    "#### Separating Testing Set"
   ]
  },
  {
   "cell_type": "code",
   "execution_count": 69,
   "id": "f62e7a3a",
   "metadata": {
    "scrolled": true
   },
   "outputs": [],
   "source": [
    "import pandas as pd\n",
    "from metpy.io import parse_metar_to_dataframe\n",
    "\n",
    "df = pd.read_csv(\"C:\\\\Users\\\\DELL\\\\Desktop\\\\EEF_DS_Challenge\\\\public.csv\")\n",
    "df = df[pd.isna(df[\"espera\"])]\n",
    "df = df.drop(columns=[\"espera\"])\n",
    "df_teste = df[pd.notna(df[\"metar\"])] #Remove the lines that doenst have METAR\n",
    "\n",
    "# Check for missing data\n",
    "missing = list(df[pd.isna(df[\"metar\"])][\"flightid\"])\n",
    "\n",
    "# Apply the METAR Reader\n",
    "series_metar = df[\"metar\"].apply(parse_metar_to_dataframe)\n",
    "df_metar = pd.concat(series_metar.tolist(), axis=0)\n",
    "\n",
    "# Reset indexes to concat\n",
    "df_metar.reset_index(drop=True, inplace=True)\n",
    "df_teste.reset_index(drop=True, inplace=True)\n",
    "df_metar = pd.concat([df_Teste, df_metar], axis=1)\n",
    "\n",
    "# Save DF related to testing\n",
    "#df_metar.to_csv('C:\\\\Users\\\\DELL\\\\Desktop\\\\EEF_DS_Challenge\\\\testing_set.csv', index=False) "
   ]
  },
  {
   "cell_type": "markdown",
   "id": "2d7cb9d7",
   "metadata": {},
   "source": [
    "#### Separating Training Set\n"
   ]
  },
  {
   "cell_type": "code",
   "execution_count": 447,
   "id": "04075ac7",
   "metadata": {},
   "outputs": [
    {
     "name": "stderr",
     "output_type": "stream",
     "text": [
      "C:\\Users\\DELL\\AppData\\Local\\Temp\\ipykernel_13932\\586038577.py:7: FutureWarning: The behavior of DataFrame concatenation with empty or all-NA entries is deprecated. In a future version, this will no longer exclude empty or all-NA columns when determining the result dtypes. To retain the old behavior, exclude the relevant entries before the concat operation.\n",
      "  df_metar=pd.concat(series_metar.tolist(), axis=0)\n"
     ]
    }
   ],
   "source": [
    "# Getting the data related only to ESPERA == 1\n",
    "df = pd.read_csv(\"C:\\\\Users\\\\DELL\\\\Desktop\\\\EEF_DS_Challenge\\\\public.csv\")\n",
    "df = df[df['espera'] == 1]\n",
    "\n",
    "df_espera1 = df[pd.notna(df[\"metar\"])]\n",
    "# Apply the Metar Reader\n",
    "series_metar = df_espera1[\"metar\"].apply(parse_metar_to_dataframe)\n",
    "df_metar=pd.concat(series_metar.tolist(), axis=0)\n",
    "\n",
    "# Reset indexes to concat\n",
    "df_metar.reset_index(drop=True, inplace=True)\n",
    "df_espera1.reset_index(drop=True, inplace=True)\n",
    "\n",
    "df_metar = pd.concat([df_espera1, df_metar], axis=1)\n",
    "#df_metar.to_csv('C:\\\\Users\\\\DELL\\\\Desktop\\\\EEF_DS_Challenge\\\\espera_1.csv', index=False)"
   ]
  },
  {
   "cell_type": "code",
   "execution_count": 499,
   "id": "c5726207",
   "metadata": {},
   "outputs": [
    {
     "name": "stderr",
     "output_type": "stream",
     "text": [
      "C:\\Users\\DELL\\AppData\\Local\\Temp\\ipykernel_13932\\3219431321.py:9: FutureWarning: The behavior of DataFrame concatenation with empty or all-NA entries is deprecated. In a future version, this will no longer exclude empty or all-NA columns when determining the result dtypes. To retain the old behavior, exclude the relevant entries before the concat operation.\n",
      "  df_metar=pd.concat(series_metar.tolist(), axis=0)\n"
     ]
    }
   ],
   "source": [
    "import pandas as pd\n",
    "\n",
    "df = pd.read_csv(\"C:\\\\Users\\\\DELL\\\\Desktop\\\\EEF_DS_Challenge\\\\public.csv\")\n",
    "df = df[pd.notna(df['espera']) & (df['espera'] == 0)]\n",
    "df_treinamento = df[pd.notna(df[\"metar\"])][100000:130000]\n",
    "\n",
    "# Apply the METAR Reader\n",
    "series_metar = df_treinamento[\"metar\"].apply(parse_metar_to_dataframe)\n",
    "df_metar=pd.concat(series_metar.tolist(), axis=0)\n",
    "\n",
    "# Reset indexes to concat\n",
    "df_metar.reset_index(drop=True, inplace=True)\n",
    "df_treinamento.reset_index(drop=True, inplace=True)\n",
    "\n",
    "df_metar = pd.concat([df_treinamento, df_metar], axis=1)\n",
    "df_metar.to_csv('C:\\\\Users\\\\DELL\\\\Desktop\\\\EEF_DS_Challenge\\\\metar_B.csv', index=False)"
   ]
  },
  {
   "cell_type": "code",
   "execution_count": 47,
   "id": "00ceb969",
   "metadata": {},
   "outputs": [
    {
     "name": "stdout",
     "output_type": "stream",
     "text": [
      "<class 'pandas.core.frame.DataFrame'>\n",
      "Index: 90720 entries, 211679 to 302398\n",
      "Data columns (total 10 columns):\n",
      " #   Column                         Non-Null Count  Dtype  \n",
      "---  ------                         --------------  -----  \n",
      " 0   flightid                       90720 non-null  object \n",
      " 1   hora_ref                       90720 non-null  object \n",
      " 2   origem                         90720 non-null  object \n",
      " 3   destino                        90720 non-null  object \n",
      " 4   url_img_satelite               89925 non-null  object \n",
      " 5   metaf                          66032 non-null  object \n",
      " 6   metar                          90715 non-null  object \n",
      " 7   prev_troca_cabeceira           90720 non-null  int64  \n",
      " 8   troca_cabeceira_hora_anterior  90720 non-null  int64  \n",
      " 9   espera                         0 non-null      float64\n",
      "dtypes: float64(1), int64(2), object(7)\n",
      "memory usage: 7.6+ MB\n"
     ]
    }
   ],
   "source": [
    "import pandas as pd\n",
    "\n",
    "df = pd.read_csv(\"C:\\\\Users\\\\DELL\\\\Desktop\\\\EEF_DS_Challenge\\\\public.csv\")\n",
    "df = df[pd.notna(df['espera'])]\n",
    "df_treinamento = df[pd.notna(df_1[\"metar\"])][100000:]\n",
    "\n",
    "# Apply the METAR Reader\n",
    "series_metar = df_treinamento[\"metar\"].apply(parse_metar_to_dataframe)\n",
    "df_metar=pd.concat(series_metar.tolist(), axis=0)\n",
    "\n",
    "# Reset indexes to concat\n",
    "df_metar.reset_index(drop=True, inplace=True)\n",
    "df_treinamento.reset_index(drop=True, inplace=True)\n",
    "\n",
    "df_metar = pd.concat([df_treinamento, df_metar], axis=1)\n",
    "#df_metar.to_csv('C:\\\\Users\\\\DELL\\\\Desktop\\\\EEF_DS_Challenge\\\\metar_B.csv', index=False)"
   ]
  },
  {
   "cell_type": "code",
   "execution_count": 11,
   "id": "e78e44c0",
   "metadata": {
    "scrolled": true
   },
   "outputs": [
    {
     "name": "stdout",
     "output_type": "stream",
     "text": [
      "Error occurred while parsing METAR data: object of type 'float' has no len() in the file cc38ded08a4330d46cd2e3497502e159 at 203357\n"
     ]
    }
   ],
   "source": [
    "import pandas as pd\n",
    "from metpy.io import parse_metar_to_dataframe\n",
    "# Read the CSV file into a DataFrame\n",
    "df = pd.read_csv(\"C:\\\\Users\\\\DELL\\\\Desktop\\\\EEF_DS_Challenge\\\\public.csv\")\n",
    "\n",
    "# Filter rows where 'espera' is not NaN and 'espera' == 0\n",
    "df = df[pd.notna(df['espera']) & (df['espera'] == 0)]\n",
    "\n",
    "# Filter df for 'metar' not NaN\n",
    "metar = df[pd.notna(df[[\"flightid\",\"metar\"]])][180000:]  # Example: select a subset of rows\n",
    "\n",
    "def parse_dd(metar_data,flightid, index):\n",
    "    try:\n",
    "        # Assuming parse_metar_to_dataframe function parses METAR data and returns a DataFrame\n",
    "        parsed_df = parse_metar_to_dataframe(metar_data)\n",
    "        return False\n",
    "    except Exception as e:\n",
    "        # Handle exceptions and print error details\n",
    "        print(f\"Error occurred while parsing METAR data: {e} in the file {flightid} at {index}\")\n",
    "        return flightid\n",
    "\n",
    "# Iterate over rows of the subset 'metar' DataFrame\n",
    "errorlist = []\n",
    "for index, row in metar.iterrows():\n",
    "    parsed_result = parse_dd(row[\"metar\"],row[\"flightid\"], index)\n",
    "    if parsed_result is not False:\n",
    "        errorlist.append(parsed_result)\n",
    "        pass\n"
   ]
  },
  {
   "cell_type": "code",
   "execution_count": 12,
   "id": "66098ba0",
   "metadata": {},
   "outputs": [
    {
     "name": "stderr",
     "output_type": "stream",
     "text": [
      "C:\\Users\\DELL\\AppData\\Local\\Temp\\ipykernel_23004\\2221803085.py:9: FutureWarning: The behavior of DataFrame concatenation with empty or all-NA entries is deprecated. In a future version, this will no longer exclude empty or all-NA columns when determining the result dtypes. To retain the old behavior, exclude the relevant entries before the concat operation.\n",
      "  df_metar=pd.concat(series_metar.tolist(), axis=0)\n"
     ]
    }
   ],
   "source": [
    "import pandas as pd\n",
    "\n",
    "df = pd.read_csv(\"C:\\\\Users\\\\DELL\\\\Desktop\\\\EEF_DS_Challenge\\\\public.csv\")\n",
    "df = df[pd.notna(df['espera']) & (df['espera'] == 0)]\n",
    "df_treinamento = df[pd.notna(df[\"metar\"])][130000:]\n",
    "\n",
    "# Apply the METAR Reader\n",
    "series_metar = df_treinamento[\"metar\"].apply(parse_metar_to_dataframe)\n",
    "df_metar=pd.concat(series_metar.tolist(), axis=0)\n",
    "\n",
    "# Reset indexes to concat\n",
    "df_metar.reset_index(drop=True, inplace=True)\n",
    "df_treinamento.reset_index(drop=True, inplace=True)\n",
    "\n",
    "df_metar = pd.concat([df_treinamento, df_metar], axis=1)\n",
    "df_metar.to_csv('C:\\\\Users\\\\DELL\\\\Desktop\\\\EEF_DS_Challenge\\\\metar_C.csv', index=False)"
   ]
  },
  {
   "cell_type": "markdown",
   "id": "c8bf2fd8",
   "metadata": {},
   "source": [
    "### Filtering the obtained data"
   ]
  },
  {
   "cell_type": "code",
   "execution_count": 1,
   "id": "4f592dd3",
   "metadata": {
    "scrolled": true
   },
   "outputs": [
    {
     "name": "stderr",
     "output_type": "stream",
     "text": [
      "C:\\Users\\DELL\\anaconda3\\lib\\site-packages\\pandas\\core\\computation\\expressions.py:21: UserWarning: Pandas requires version '2.8.4' or newer of 'numexpr' (version '2.8.1' currently installed).\n",
      "  from pandas.core.computation.check import NUMEXPR_INSTALLED\n",
      "C:\\Users\\DELL\\anaconda3\\lib\\site-packages\\pandas\\core\\arrays\\masked.py:60: UserWarning: Pandas requires version '1.3.6' or newer of 'bottleneck' (version '1.3.4' currently installed).\n",
      "  from pandas.core import (\n"
     ]
    },
    {
     "name": "stdout",
     "output_type": "stream",
     "text": [
      "<class 'pandas.core.frame.DataFrame'>\n",
      "Index: 208853 entries, 0 to 76367\n",
      "Data columns (total 41 columns):\n",
      " #   Column                         Non-Null Count   Dtype         \n",
      "---  ------                         --------------   -----         \n",
      " 0   flightid                       208853 non-null  object        \n",
      " 1   hora_ref                       208853 non-null  object        \n",
      " 2   origem                         208853 non-null  object        \n",
      " 3   destino                        208853 non-null  object        \n",
      " 4   url_img_satelite               205915 non-null  object        \n",
      " 5   metaf                          88979 non-null   object        \n",
      " 6   metar                          208853 non-null  object        \n",
      " 7   prev_troca_cabeceira           208853 non-null  int64         \n",
      " 8   troca_cabeceira_hora_anterior  208853 non-null  int64         \n",
      " 9   espera                         208853 non-null  int64         \n",
      " 10  station_id                     208853 non-null  object        \n",
      " 11  latitude                       208853 non-null  float64       \n",
      " 12  longitude                      208853 non-null  float64       \n",
      " 13  elevation                      208853 non-null  int64         \n",
      " 14  date_time                      204902 non-null  datetime64[ns]\n",
      " 15  wind_direction                 197770 non-null  float64       \n",
      " 16  wind_speed                     208849 non-null  float64       \n",
      " 17  wind_gust                      1958 non-null    float64       \n",
      " 18  visibility                     208835 non-null  float64       \n",
      " 19  current_wx1                    28911 non-null   object        \n",
      " 20  current_wx2                    6212 non-null    object        \n",
      " 21  current_wx3                    27 non-null      object        \n",
      " 22  low_cloud_type                 150132 non-null  object        \n",
      " 23  low_cloud_level                145873 non-null  float64       \n",
      " 24  medium_cloud_type              85732 non-null   object        \n",
      " 25  medium_cloud_level             85732 non-null   float64       \n",
      " 26  high_cloud_type                26620 non-null   object        \n",
      " 27  high_cloud_level               26620 non-null   float64       \n",
      " 28  highest_cloud_type             1762 non-null    object        \n",
      " 29  highest_cloud_level            1762 non-null    float64       \n",
      " 30  cloud_coverage                 208853 non-null  int64         \n",
      " 31  air_temperature                208546 non-null  float64       \n",
      " 32  dew_point_temperature          208223 non-null  float64       \n",
      " 33  altimeter                      208570 non-null  float64       \n",
      " 34  current_wx1_symbol             208853 non-null  int64         \n",
      " 35  current_wx2_symbol             208853 non-null  int64         \n",
      " 36  current_wx3_symbol             208853 non-null  int64         \n",
      " 37  remarks                        4919 non-null    object        \n",
      " 38  air_pressure_at_sea_level      208545 non-null  float64       \n",
      " 39  eastward_wind                  197770 non-null  float64       \n",
      " 40  northward_wind                 197770 non-null  float64       \n",
      "dtypes: datetime64[ns](1), float64(16), int64(8), object(16)\n",
      "memory usage: 66.9+ MB\n"
     ]
    }
   ],
   "source": [
    "import pandas as pd\n",
    "df1 = pd.read_excel(\"C:\\\\Users\\\\DELL\\\\Desktop\\\\EEF_DS_Challenge\\\\metar_A.xlsx\")\n",
    "df2 = pd.read_excel(\"C:\\\\Users\\\\DELL\\\\Desktop\\\\EEF_DS_Challenge\\\\metar_B.xlsx\")\n",
    "df3 = pd.read_excel(\"C:\\\\Users\\\\DELL\\\\Desktop\\\\EEF_DS_Challenge\\\\metar_C.xlsx\")\n",
    "df_espera1= pd.read_excel(\"C:\\\\Users\\\\DELL\\\\Desktop\\\\EEF_DS_Challenge\\\\espera_1.xlsx\")\n",
    "\n",
    "df1 = pd.concat([df1, df_espera1], axis=0)\n",
    "df1 = pd.concat([df1, df2], axis = 0)\n",
    "df1 = pd.concat([df1, df3], axis = 0)\n",
    "df1.info()"
   ]
  },
  {
   "cell_type": "code",
   "execution_count": 2,
   "id": "ebecca46",
   "metadata": {},
   "outputs": [],
   "source": [
    "import math\n",
    "p =df1[\"espera\"].value_counts()\n",
    "#proportion = math.sqrt((p[0]/p[1]))\n",
    "proportion = (p[0]/p[1])"
   ]
  },
  {
   "cell_type": "code",
   "execution_count": 5,
   "id": "2c40bb4b",
   "metadata": {
    "scrolled": true
   },
   "outputs": [
    {
     "name": "stdout",
     "output_type": "stream",
     "text": [
      "<class 'pandas.core.frame.DataFrame'>\n",
      "Index: 208853 entries, 0 to 76367\n",
      "Data columns (total 41 columns):\n",
      " #   Column                         Non-Null Count   Dtype         \n",
      "---  ------                         --------------   -----         \n",
      " 0   flightid                       208853 non-null  object        \n",
      " 1   hora_ref                       208853 non-null  object        \n",
      " 2   origem                         208853 non-null  object        \n",
      " 3   destino                        208853 non-null  object        \n",
      " 4   url_img_satelite               205915 non-null  object        \n",
      " 5   metaf                          88979 non-null   object        \n",
      " 6   metar                          208853 non-null  object        \n",
      " 7   prev_troca_cabeceira           208853 non-null  int64         \n",
      " 8   troca_cabeceira_hora_anterior  208853 non-null  int64         \n",
      " 9   espera                         208853 non-null  int64         \n",
      " 10  station_id                     208853 non-null  object        \n",
      " 11  latitude                       208853 non-null  float64       \n",
      " 12  longitude                      208853 non-null  float64       \n",
      " 13  elevation                      208853 non-null  int64         \n",
      " 14  date_time                      204902 non-null  datetime64[ns]\n",
      " 15  wind_direction                 197770 non-null  float64       \n",
      " 16  wind_speed                     208849 non-null  float64       \n",
      " 17  wind_gust                      1958 non-null    float64       \n",
      " 18  visibility                     208835 non-null  float64       \n",
      " 19  current_wx1                    208853 non-null  object        \n",
      " 20  current_wx2                    208853 non-null  object        \n",
      " 21  current_wx3                    208853 non-null  object        \n",
      " 22  low_cloud_type                 208853 non-null  object        \n",
      " 23  low_cloud_level                145873 non-null  float64       \n",
      " 24  medium_cloud_type              208853 non-null  object        \n",
      " 25  medium_cloud_level             85732 non-null   float64       \n",
      " 26  high_cloud_type                208853 non-null  object        \n",
      " 27  high_cloud_level               26620 non-null   float64       \n",
      " 28  highest_cloud_type             208853 non-null  object        \n",
      " 29  highest_cloud_level            1762 non-null    float64       \n",
      " 30  cloud_coverage                 208853 non-null  int64         \n",
      " 31  air_temperature                208546 non-null  float64       \n",
      " 32  dew_point_temperature          208223 non-null  float64       \n",
      " 33  altimeter                      208570 non-null  float64       \n",
      " 34  current_wx1_symbol             208853 non-null  int64         \n",
      " 35  current_wx2_symbol             208853 non-null  int64         \n",
      " 36  current_wx3_symbol             208853 non-null  int64         \n",
      " 37  remarks                        4919 non-null    object        \n",
      " 38  air_pressure_at_sea_level      208545 non-null  float64       \n",
      " 39  eastward_wind                  197770 non-null  float64       \n",
      " 40  northward_wind                 197770 non-null  float64       \n",
      "dtypes: datetime64[ns](1), float64(16), int64(8), object(16)\n",
      "memory usage: 66.9+ MB\n"
     ]
    }
   ],
   "source": [
    "df2 = categorical_to_numerical(df1)\n",
    "df2.info()"
   ]
  },
  {
   "cell_type": "code",
   "execution_count": 6,
   "id": "215d4ddd",
   "metadata": {
    "scrolled": false
   },
   "outputs": [
    {
     "name": "stdout",
     "output_type": "stream",
     "text": [
      "<class 'pandas.core.frame.DataFrame'>\n",
      "Index: 208853 entries, 0 to 76367\n",
      "Data columns (total 26 columns):\n",
      " #   Column                         Non-Null Count   Dtype  \n",
      "---  ------                         --------------   -----  \n",
      " 0   prev_troca_cabeceira           208853 non-null  int64  \n",
      " 1   troca_cabeceira_hora_anterior  208853 non-null  int64  \n",
      " 2   espera                         208853 non-null  int64  \n",
      " 3   latitude                       208853 non-null  float64\n",
      " 4   longitude                      208853 non-null  float64\n",
      " 5   wind_direction                 208853 non-null  float64\n",
      " 6   wind_speed                     208853 non-null  float64\n",
      " 7   visibility                     208853 non-null  float64\n",
      " 8   current_wx1                    208853 non-null  object \n",
      " 9   current_wx2                    208853 non-null  object \n",
      " 10  current_wx3                    208853 non-null  object \n",
      " 11  low_cloud_type                 208853 non-null  object \n",
      " 12  low_cloud_level                208853 non-null  float64\n",
      " 13  medium_cloud_type              208853 non-null  object \n",
      " 14  medium_cloud_level             208853 non-null  float64\n",
      " 15  high_cloud_type                208853 non-null  object \n",
      " 16  cloud_coverage                 208853 non-null  int64  \n",
      " 17  air_temperature                208853 non-null  float64\n",
      " 18  dew_point_temperature          208853 non-null  float64\n",
      " 19  altimeter                      208853 non-null  float64\n",
      " 20  current_wx1_symbol             208853 non-null  int64  \n",
      " 21  current_wx2_symbol             208853 non-null  int64  \n",
      " 22  current_wx3_symbol             208853 non-null  int64  \n",
      " 23  eastward_wind                  208853 non-null  float64\n",
      " 24  northward_wind                 208853 non-null  float64\n",
      " 25  time                           208853 non-null  object \n",
      "dtypes: float64(12), int64(7), object(7)\n",
      "memory usage: 43.0+ MB\n"
     ]
    }
   ],
   "source": [
    "df3 = droping_and_filling(df2,1)\n",
    "df3.info()"
   ]
  },
  {
   "cell_type": "markdown",
   "id": "9053748f",
   "metadata": {},
   "source": [
    "### Training predictive models"
   ]
  },
  {
   "cell_type": "code",
   "execution_count": 79,
   "id": "c42ed344",
   "metadata": {},
   "outputs": [],
   "source": [
    "from sklearn.model_selection import train_test_split\n",
    "\n",
    "X = df3.drop(columns='espera')\n",
    "y = df3['espera']\n",
    "\n",
    "X_train, X_test, y_train, y_test = train_test_split(X, y, test_size=0.2, stratify=y, random_state=42)"
   ]
  },
  {
   "cell_type": "code",
   "execution_count": 80,
   "id": "58041b9a",
   "metadata": {
    "scrolled": true
   },
   "outputs": [
    {
     "data": {
      "text/plain": [
       "Pipeline(steps=[('encoder', TargetEncoder()),\n",
       "                ('clf',\n",
       "                 XGBClassifier(base_score=None, booster=None, callbacks=None,\n",
       "                               colsample_bylevel=None, colsample_bynode=None,\n",
       "                               colsample_bytree=None, device=None,\n",
       "                               early_stopping_rounds=None,\n",
       "                               enable_categorical=False, eval_metric=None,\n",
       "                               feature_types=None, gamma=None, grow_policy=None,\n",
       "                               importance_type=None,\n",
       "                               interaction_constraints=None, learning_rate=None,\n",
       "                               max_bin=None, max_cat_threshold=None,\n",
       "                               max_cat_to_onehot=None, max_delta_step=None,\n",
       "                               max_depth=None, max_leaves=None,\n",
       "                               min_child_weight=5, missing=nan,\n",
       "                               monotone_constraints=None, multi_strategy=None,\n",
       "                               n_estimators=None, n_jobs=None,\n",
       "                               num_parallel_tree=None, random_state=8, ...))])"
      ]
     },
     "execution_count": 80,
     "metadata": {},
     "output_type": "execute_result"
    }
   ],
   "source": [
    "#Build a pipeline of training\n",
    "\n",
    "from sklearn.pipeline import Pipeline\n",
    "from category_encoders.target_encoder import TargetEncoder\n",
    "from xgboost import XGBClassifier\n",
    "proportion\n",
    "estimators = [\n",
    "    ('encoder', TargetEncoder()),\n",
    "    ('clf', XGBClassifier(random_state=8, scale_pos_weight = proportion,\n",
    "                          min_child_weight=5)) # can customize objective function with the objective parameter\n",
    "]\n",
    "pipe = Pipeline(steps=estimators)\n",
    "pipe"
   ]
  },
  {
   "cell_type": "code",
   "execution_count": 81,
   "id": "99d287c2",
   "metadata": {
    "scrolled": true
   },
   "outputs": [],
   "source": [
    "#Set up hyperparameter tuning\n",
    "from skopt import BayesSearchCV\n",
    "from skopt.space import Real, Categorical, Integer\n",
    "\n",
    "search_space = {\n",
    "    'clf__max_depth': Integer(2,8),\n",
    "    'clf__learning_rate': Real(0.001, 1.0, prior='log-uniform'),\n",
    "    'clf__subsample': Real(0.5, 1.0),\n",
    "    'clf__colsample_bytree': Real(0.5, 1.0),\n",
    "    'clf__colsample_bylevel': Real(0.5, 1.0),\n",
    "    'clf__colsample_bynode' : Real(0.5, 1.0),\n",
    "    'clf__reg_alpha': Real(0.0, 15.0),\n",
    "    'clf__reg_lambda': Real(0.0, 10.0),\n",
    "    'clf__gamma': Real(0.0, 10.0)\n",
    "}\n",
    "\n",
    "opt = BayesSearchCV(pipe, search_space, cv=5, n_iter=100, scoring='roc_auc', random_state=42) \n",
    "# in reality, you may consider setting cv and n_iter to higher values"
   ]
  },
  {
   "cell_type": "code",
   "execution_count": 82,
   "id": "d898f6d0",
   "metadata": {},
   "outputs": [
    {
     "data": {
      "text/plain": [
       "BayesSearchCV(cv=5,\n",
       "              estimator=Pipeline(steps=[('encoder', TargetEncoder()),\n",
       "                                        ('clf',\n",
       "                                         XGBClassifier(base_score=None,\n",
       "                                                       booster=None,\n",
       "                                                       callbacks=None,\n",
       "                                                       colsample_bylevel=None,\n",
       "                                                       colsample_bynode=None,\n",
       "                                                       colsample_bytree=None,\n",
       "                                                       device=None,\n",
       "                                                       early_stopping_rounds=None,\n",
       "                                                       enable_categorical=False,\n",
       "                                                       eval_metric=None,\n",
       "                                                       feature_types=None,\n",
       "                                                       gamma=None,\n",
       "                                                       grow_policy=None,\n",
       "                                                       importance_type=N...\n",
       "                             'clf__learning_rate': Real(low=0.001, high=1.0, prior='log-uniform', transform='normalize'),\n",
       "                             'clf__max_depth': Integer(low=2, high=8, prior='uniform', transform='normalize'),\n",
       "                             'clf__reg_alpha': Real(low=0.0, high=15.0, prior='uniform', transform='normalize'),\n",
       "                             'clf__reg_lambda': Real(low=0.0, high=10.0, prior='uniform', transform='normalize'),\n",
       "                             'clf__subsample': Real(low=0.5, high=1.0, prior='uniform', transform='normalize')})"
      ]
     },
     "execution_count": 82,
     "metadata": {},
     "output_type": "execute_result"
    }
   ],
   "source": [
    "#Train the XGBoost model\n",
    "opt.fit(X_train, y_train)"
   ]
  },
  {
   "cell_type": "code",
   "execution_count": 83,
   "id": "fceabf98",
   "metadata": {},
   "outputs": [
    {
     "data": {
      "text/plain": [
       "array([[0.88223267, 0.11776731],\n",
       "       [0.61868024, 0.3813198 ],\n",
       "       [0.87106323, 0.1289368 ],\n",
       "       ...,\n",
       "       [0.7970369 , 0.20296308],\n",
       "       [0.72810566, 0.27189434],\n",
       "       [0.9662828 , 0.03371723]], dtype=float32)"
      ]
     },
     "execution_count": 83,
     "metadata": {},
     "output_type": "execute_result"
    }
   ],
   "source": [
    "opt.best_estimator_\n",
    "opt.best_score_\n",
    "opt.score(X_test, y_test)\n",
    "opt.predict(X_test)\n",
    "opt.predict_proba(X_test)"
   ]
  },
  {
   "cell_type": "code",
   "execution_count": 84,
   "id": "4532c2b5",
   "metadata": {
    "scrolled": true
   },
   "outputs": [
    {
     "data": {
      "text/plain": [
       "<AxesSubplot:title={'center':'Feature importance'}, xlabel='F score', ylabel='Features'>"
      ]
     },
     "execution_count": 84,
     "metadata": {},
     "output_type": "execute_result"
    },
    {
     "data": {
      "image/png": "[encoded data removed]",
      "text/plain": [
       "<Figure size 432x288 with 1 Axes>"
      ]
     },
     "metadata": {
      "needs_background": "light"
     },
     "output_type": "display_data"
    }
   ],
   "source": [
    "from xgboost import plot_importance\n",
    "\n",
    "xgboost_step = opt.best_estimator_.steps[1]\n",
    "xgboost_model = xgboost_step[1]\n",
    "plot_importance(xgboost_model)"
   ]
  },
  {
   "cell_type": "markdown",
   "id": "4fe5adaa",
   "metadata": {},
   "source": [
    "### Predicting on testing Dataset"
   ]
  },
  {
   "cell_type": "code",
   "execution_count": 13,
   "id": "98335550",
   "metadata": {},
   "outputs": [],
   "source": [
    "dft1 = pd.read_excel(\"C:\\\\Users\\\\DELL\\\\Desktop\\\\EEF_DS_Challenge\\\\testing_set.xlsx\")"
   ]
  },
  {
   "cell_type": "code",
   "execution_count": 14,
   "id": "9ed84aa0",
   "metadata": {},
   "outputs": [],
   "source": [
    "df_fligthid = dft1[\"flightid\"]"
   ]
  },
  {
   "cell_type": "code",
   "execution_count": 85,
   "id": "f5430f30",
   "metadata": {
    "scrolled": true
   },
   "outputs": [
    {
     "name": "stdout",
     "output_type": "stream",
     "text": [
      "<class 'pandas.core.frame.DataFrame'>\n",
      "RangeIndex: 90715 entries, 0 to 90714\n",
      "Data columns (total 25 columns):\n",
      " #   Column                         Non-Null Count  Dtype  \n",
      "---  ------                         --------------  -----  \n",
      " 0   prev_troca_cabeceira           90715 non-null  int64  \n",
      " 1   troca_cabeceira_hora_anterior  90715 non-null  int64  \n",
      " 2   latitude                       90715 non-null  float64\n",
      " 3   longitude                      90715 non-null  float64\n",
      " 4   wind_direction                 90715 non-null  float64\n",
      " 5   wind_speed                     90715 non-null  int64  \n",
      " 6   visibility                     90715 non-null  int64  \n",
      " 7   current_wx1                    90715 non-null  object \n",
      " 8   current_wx2                    90715 non-null  object \n",
      " 9   current_wx3                    90715 non-null  object \n",
      " 10  low_cloud_type                 90715 non-null  object \n",
      " 11  low_cloud_level                90715 non-null  float64\n",
      " 12  medium_cloud_type              90715 non-null  object \n",
      " 13  medium_cloud_level             90715 non-null  float64\n",
      " 14  high_cloud_type                90715 non-null  object \n",
      " 15  cloud_coverage                 90715 non-null  int64  \n",
      " 16  air_temperature                90715 non-null  float64\n",
      " 17  dew_point_temperature          90715 non-null  float64\n",
      " 18  altimeter                      90715 non-null  float64\n",
      " 19  current_wx1_symbol             90715 non-null  int64  \n",
      " 20  current_wx2_symbol             90715 non-null  int64  \n",
      " 21  current_wx3_symbol             90715 non-null  int64  \n",
      " 22  eastward_wind                  90715 non-null  float64\n",
      " 23  northward_wind                 90715 non-null  float64\n",
      " 24  time                           90715 non-null  object \n",
      "dtypes: float64(10), int64(8), object(7)\n",
      "memory usage: 17.3+ MB\n"
     ]
    }
   ],
   "source": [
    "dft2 = categorical_to_numerical(dft1)\n",
    "dft3 = droping_and_filling(dft2, 1)\n",
    "dft3.info()"
   ]
  },
  {
   "cell_type": "code",
   "execution_count": 86,
   "id": "6cc3eb07",
   "metadata": {},
   "outputs": [],
   "source": [
    "d = opt.predict(dft3)\n"
   ]
  },
  {
   "cell_type": "code",
   "execution_count": 87,
   "id": "77f0ca7d",
   "metadata": {},
   "outputs": [
    {
     "name": "stdout",
     "output_type": "stream",
     "text": [
      "0    77599\n",
      "1    13116\n",
      "Name: count, dtype: int64\n"
     ]
    }
   ],
   "source": [
    "# Convert the list to a pandas Series\n",
    "my_series = pd.Series(d)\n",
    "\n",
    "# Get value counts\n",
    "value_counts = my_series.value_counts()\n",
    "\n",
    "print(value_counts)"
   ]
  },
  {
   "cell_type": "code",
   "execution_count": 88,
   "id": "7a3493e3",
   "metadata": {
    "scrolled": true
   },
   "outputs": [
    {
     "data": {
      "text/html": [
       "<div>\n",
       "<style scoped>\n",
       "    .dataframe tbody tr th:only-of-type {\n",
       "        vertical-align: middle;\n",
       "    }\n",
       "\n",
       "    .dataframe tbody tr th {\n",
       "        vertical-align: top;\n",
       "    }\n",
       "\n",
       "    .dataframe thead th {\n",
       "        text-align: right;\n",
       "    }\n",
       "</style>\n",
       "<table border=\"1\" class=\"dataframe\">\n",
       "  <thead>\n",
       "    <tr style=\"text-align: right;\">\n",
       "      <th></th>\n",
       "      <th>flightid</th>\n",
       "      <th>espera</th>\n",
       "    </tr>\n",
       "  </thead>\n",
       "  <tbody>\n",
       "    <tr>\n",
       "      <th>0</th>\n",
       "      <td>45e7978b9d88f934cc06c11b6f0edba7</td>\n",
       "      <td>0</td>\n",
       "    </tr>\n",
       "    <tr>\n",
       "      <th>1</th>\n",
       "      <td>16ed22b3755aa9196d16fdd2a173c98f</td>\n",
       "      <td>0</td>\n",
       "    </tr>\n",
       "    <tr>\n",
       "      <th>2</th>\n",
       "      <td>b548d2c700496e2536d78caf626aee17</td>\n",
       "      <td>0</td>\n",
       "    </tr>\n",
       "    <tr>\n",
       "      <th>3</th>\n",
       "      <td>e4cc2545104bcfe978912d39f0960f4e</td>\n",
       "      <td>0</td>\n",
       "    </tr>\n",
       "    <tr>\n",
       "      <th>4</th>\n",
       "      <td>ace87fdae884359186e9851c38b146fb</td>\n",
       "      <td>1</td>\n",
       "    </tr>\n",
       "    <tr>\n",
       "      <th>...</th>\n",
       "      <td>...</td>\n",
       "      <td>...</td>\n",
       "    </tr>\n",
       "    <tr>\n",
       "      <th>90710</th>\n",
       "      <td>8ca8c4d16e592d65cd25d341113aecdf</td>\n",
       "      <td>0</td>\n",
       "    </tr>\n",
       "    <tr>\n",
       "      <th>90711</th>\n",
       "      <td>afde50d413c2374ab53cd3101332f9fc</td>\n",
       "      <td>0</td>\n",
       "    </tr>\n",
       "    <tr>\n",
       "      <th>90712</th>\n",
       "      <td>faeb2f6e744c606aee9e819ea1d62e6b</td>\n",
       "      <td>0</td>\n",
       "    </tr>\n",
       "    <tr>\n",
       "      <th>90713</th>\n",
       "      <td>3992d063be713b35d3bf46b79853880e</td>\n",
       "      <td>0</td>\n",
       "    </tr>\n",
       "    <tr>\n",
       "      <th>90714</th>\n",
       "      <td>b9978f57bd67e255fb55f3299e39490e</td>\n",
       "      <td>0</td>\n",
       "    </tr>\n",
       "  </tbody>\n",
       "</table>\n",
       "<p>90715 rows × 2 columns</p>\n",
       "</div>"
      ],
      "text/plain": [
       "                               flightid  espera\n",
       "0      45e7978b9d88f934cc06c11b6f0edba7       0\n",
       "1      16ed22b3755aa9196d16fdd2a173c98f       0\n",
       "2      b548d2c700496e2536d78caf626aee17       0\n",
       "3      e4cc2545104bcfe978912d39f0960f4e       0\n",
       "4      ace87fdae884359186e9851c38b146fb       1\n",
       "...                                 ...     ...\n",
       "90710  8ca8c4d16e592d65cd25d341113aecdf       0\n",
       "90711  afde50d413c2374ab53cd3101332f9fc       0\n",
       "90712  faeb2f6e744c606aee9e819ea1d62e6b       0\n",
       "90713  3992d063be713b35d3bf46b79853880e       0\n",
       "90714  b9978f57bd67e255fb55f3299e39490e       0\n",
       "\n",
       "[90715 rows x 2 columns]"
      ]
     },
     "execution_count": 88,
     "metadata": {},
     "output_type": "execute_result"
    }
   ],
   "source": [
    "pred = pd.DataFrame({'espera': my_series})\n",
    "dft4 = pd.concat([df_fligthid, pred], axis = 1)\n",
    "dft4"
   ]
  }
 ],
 "metadata": {
  "kernelspec": {
   "display_name": "Python 3 (ipykernel)",
   "language": "python",
   "name": "python3"
  },
  "language_info": {
   "codemirror_mode": {
    "name": "ipython",
    "version": 3
   },
   "file_extension": ".py",
   "mimetype": "text/x-python",
   "name": "python",
   "nbconvert_exporter": "python",
   "pygments_lexer": "ipython3",
   "version": "3.9.12"
  }
 },
 "nbformat": 4,
 "nbformat_minor": 5
}
